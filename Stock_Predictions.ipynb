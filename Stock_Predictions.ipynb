{
  "nbformat": 4,
  "nbformat_minor": 0,
  "metadata": {
    "colab": {
      "name": "Stock Predictions.ipynb",
      "provenance": []
    },
    "kernelspec": {
      "name": "python3",
      "display_name": "Python 3"
    }
  },
  "cells": [
    {
      "cell_type": "code",
      "metadata": {
        "id": "ldtNz---D06d"
      },
      "source": [
        "import math\r\n",
        "import pandas_datareader as web\r\n",
        "import numpy as np\r\n",
        "import pandas as pd\r\n",
        "from sklearn.preprocessing import  MinMaxScaler\r\n",
        "from keras.models import Sequential\r\n",
        "from keras.layers import Dense, LSTM\r\n",
        "import matplotlib.pyplot as plt\r\n",
        "plt.style.use('fivethirtyeight')"
      ],
      "execution_count": 9,
      "outputs": []
    },
    {
      "cell_type": "code",
      "metadata": {
        "colab": {
          "base_uri": "https://localhost:8080/",
          "height": 450
        },
        "id": "yNEylAxMEnOj",
        "outputId": "6c8663dc-0d26-4d5c-82c3-65c9ae032ee9"
      },
      "source": [
        "df = web.DataReader('AAPL', data_source='yahoo', start='2010-01-01', end='2020-12-17')\r\n",
        "#show\r\n",
        "df"
      ],
      "execution_count": 15,
      "outputs": [
        {
          "output_type": "execute_result",
          "data": {
            "text/html": [
              "<div>\n",
              "<style scoped>\n",
              "    .dataframe tbody tr th:only-of-type {\n",
              "        vertical-align: middle;\n",
              "    }\n",
              "\n",
              "    .dataframe tbody tr th {\n",
              "        vertical-align: top;\n",
              "    }\n",
              "\n",
              "    .dataframe thead th {\n",
              "        text-align: right;\n",
              "    }\n",
              "</style>\n",
              "<table border=\"1\" class=\"dataframe\">\n",
              "  <thead>\n",
              "    <tr style=\"text-align: right;\">\n",
              "      <th></th>\n",
              "      <th>High</th>\n",
              "      <th>Low</th>\n",
              "      <th>Open</th>\n",
              "      <th>Close</th>\n",
              "      <th>Volume</th>\n",
              "      <th>Adj Close</th>\n",
              "    </tr>\n",
              "    <tr>\n",
              "      <th>Date</th>\n",
              "      <th></th>\n",
              "      <th></th>\n",
              "      <th></th>\n",
              "      <th></th>\n",
              "      <th></th>\n",
              "      <th></th>\n",
              "    </tr>\n",
              "  </thead>\n",
              "  <tbody>\n",
              "    <tr>\n",
              "      <th>2010-01-04</th>\n",
              "      <td>7.660714</td>\n",
              "      <td>7.585000</td>\n",
              "      <td>7.622500</td>\n",
              "      <td>7.643214</td>\n",
              "      <td>493729600.0</td>\n",
              "      <td>6.583586</td>\n",
              "    </tr>\n",
              "    <tr>\n",
              "      <th>2010-01-05</th>\n",
              "      <td>7.699643</td>\n",
              "      <td>7.616071</td>\n",
              "      <td>7.664286</td>\n",
              "      <td>7.656429</td>\n",
              "      <td>601904800.0</td>\n",
              "      <td>6.594968</td>\n",
              "    </tr>\n",
              "    <tr>\n",
              "      <th>2010-01-06</th>\n",
              "      <td>7.686786</td>\n",
              "      <td>7.526786</td>\n",
              "      <td>7.656429</td>\n",
              "      <td>7.534643</td>\n",
              "      <td>552160000.0</td>\n",
              "      <td>6.490066</td>\n",
              "    </tr>\n",
              "    <tr>\n",
              "      <th>2010-01-07</th>\n",
              "      <td>7.571429</td>\n",
              "      <td>7.466071</td>\n",
              "      <td>7.562500</td>\n",
              "      <td>7.520714</td>\n",
              "      <td>477131200.0</td>\n",
              "      <td>6.478067</td>\n",
              "    </tr>\n",
              "    <tr>\n",
              "      <th>2010-01-08</th>\n",
              "      <td>7.571429</td>\n",
              "      <td>7.466429</td>\n",
              "      <td>7.510714</td>\n",
              "      <td>7.570714</td>\n",
              "      <td>447610800.0</td>\n",
              "      <td>6.521136</td>\n",
              "    </tr>\n",
              "    <tr>\n",
              "      <th>...</th>\n",
              "      <td>...</td>\n",
              "      <td>...</td>\n",
              "      <td>...</td>\n",
              "      <td>...</td>\n",
              "      <td>...</td>\n",
              "      <td>...</td>\n",
              "    </tr>\n",
              "    <tr>\n",
              "      <th>2020-12-11</th>\n",
              "      <td>122.760002</td>\n",
              "      <td>120.550003</td>\n",
              "      <td>122.430000</td>\n",
              "      <td>122.410004</td>\n",
              "      <td>86939800.0</td>\n",
              "      <td>122.227356</td>\n",
              "    </tr>\n",
              "    <tr>\n",
              "      <th>2020-12-14</th>\n",
              "      <td>123.349998</td>\n",
              "      <td>121.540001</td>\n",
              "      <td>122.599998</td>\n",
              "      <td>121.779999</td>\n",
              "      <td>79184500.0</td>\n",
              "      <td>121.598289</td>\n",
              "    </tr>\n",
              "    <tr>\n",
              "      <th>2020-12-15</th>\n",
              "      <td>127.900002</td>\n",
              "      <td>124.129997</td>\n",
              "      <td>124.339996</td>\n",
              "      <td>127.879997</td>\n",
              "      <td>157572300.0</td>\n",
              "      <td>127.689186</td>\n",
              "    </tr>\n",
              "    <tr>\n",
              "      <th>2020-12-16</th>\n",
              "      <td>128.369995</td>\n",
              "      <td>126.559998</td>\n",
              "      <td>127.410004</td>\n",
              "      <td>127.809998</td>\n",
              "      <td>98208600.0</td>\n",
              "      <td>127.619293</td>\n",
              "    </tr>\n",
              "    <tr>\n",
              "      <th>2020-12-17</th>\n",
              "      <td>129.580002</td>\n",
              "      <td>128.039993</td>\n",
              "      <td>128.899994</td>\n",
              "      <td>128.699997</td>\n",
              "      <td>94359800.0</td>\n",
              "      <td>128.507965</td>\n",
              "    </tr>\n",
              "  </tbody>\n",
              "</table>\n",
              "<p>2760 rows × 6 columns</p>\n",
              "</div>"
            ],
            "text/plain": [
              "                  High         Low  ...       Volume   Adj Close\n",
              "Date                                ...                         \n",
              "2010-01-04    7.660714    7.585000  ...  493729600.0    6.583586\n",
              "2010-01-05    7.699643    7.616071  ...  601904800.0    6.594968\n",
              "2010-01-06    7.686786    7.526786  ...  552160000.0    6.490066\n",
              "2010-01-07    7.571429    7.466071  ...  477131200.0    6.478067\n",
              "2010-01-08    7.571429    7.466429  ...  447610800.0    6.521136\n",
              "...                ...         ...  ...          ...         ...\n",
              "2020-12-11  122.760002  120.550003  ...   86939800.0  122.227356\n",
              "2020-12-14  123.349998  121.540001  ...   79184500.0  121.598289\n",
              "2020-12-15  127.900002  124.129997  ...  157572300.0  127.689186\n",
              "2020-12-16  128.369995  126.559998  ...   98208600.0  127.619293\n",
              "2020-12-17  129.580002  128.039993  ...   94359800.0  128.507965\n",
              "\n",
              "[2760 rows x 6 columns]"
            ]
          },
          "metadata": {
            "tags": []
          },
          "execution_count": 15
        }
      ]
    },
    {
      "cell_type": "markdown",
      "metadata": {
        "id": "oDDyebFoSwRh"
      },
      "source": [
        "# Above you can change the stock you wanna see and run all below again"
      ]
    },
    {
      "cell_type": "code",
      "metadata": {
        "colab": {
          "base_uri": "https://localhost:8080/"
        },
        "id": "kKRMKXKCFKJZ",
        "outputId": "fedee1dd-6710-49a5-b9ea-dd2c62068361"
      },
      "source": [
        "#number of rows /\r\n",
        "df.shape"
      ],
      "execution_count": 16,
      "outputs": [
        {
          "output_type": "execute_result",
          "data": {
            "text/plain": [
              "(2760, 6)"
            ]
          },
          "metadata": {
            "tags": []
          },
          "execution_count": 16
        }
      ]
    },
    {
      "cell_type": "code",
      "metadata": {
        "colab": {
          "base_uri": "https://localhost:8080/",
          "height": 558
        },
        "id": "i8QdpAzZFP6c",
        "outputId": "ad3085fb-e7b9-479e-dbd6-516a44603396"
      },
      "source": [
        "#V closing price\r\n",
        "plt.figure(figsize=(20,8))\r\n",
        "plt.title('Close Price History')\r\n",
        "plt.plot(df['Close'])\r\n",
        "plt.xlabel('Date', fontsize=18)\r\n",
        "plt.ylabel('Close Prices USD($)', fontsize=18)\r\n",
        "plt.show()"
      ],
      "execution_count": 19,
      "outputs": [
        {
          "output_type": "display_data",
          "data": {
            "image/png": "[encoded data removed]",
            "text/plain": [
              "<Figure size 1440x576 with 1 Axes>"
            ]
          },
          "metadata": {
            "tags": []
          }
        }
      ]
    },
    {
      "cell_type": "code",
      "metadata": {
        "colab": {
          "base_uri": "https://localhost:8080/"
        },
        "id": "Q3dLAcw1HH8N",
        "outputId": "5dad9688-e600-4f27-abe2-8e83ee3bbd27"
      },
      "source": [
        "#new data frame\r\n",
        "data = df.filter(['Close'])\r\n",
        "#convert dataframe to numpy\r\n",
        "dataset = data.values\r\n",
        "#number of rows\r\n",
        "training_data_len = math.ceil(len(dataset) * .8 )\r\n",
        "training_data_len"
      ],
      "execution_count": 20,
      "outputs": [
        {
          "output_type": "execute_result",
          "data": {
            "text/plain": [
              "2208"
            ]
          },
          "metadata": {
            "tags": []
          },
          "execution_count": 20
        }
      ]
    },
    {
      "cell_type": "code",
      "metadata": {
        "colab": {
          "base_uri": "https://localhost:8080/"
        },
        "id": "pssmkq1CHuRG",
        "outputId": "6accb00a-aace-457c-9e28-ef508109c532"
      },
      "source": [
        "#scale data\r\n",
        "scaler = MinMaxScaler(feature_range=(0,1))\r\n",
        "scaled_data = scaler.fit_transform(dataset)\r\n",
        "\r\n",
        "scaled_data"
      ],
      "execution_count": 21,
      "outputs": [
        {
          "output_type": "execute_result",
          "data": {
            "text/plain": [
              "array([[0.0061599 ],\n",
              "       [0.00626369],\n",
              "       [0.00530717],\n",
              "       ...,\n",
              "       [0.95051883],\n",
              "       [0.94996904],\n",
              "       [0.95695924]])"
            ]
          },
          "metadata": {
            "tags": []
          },
          "execution_count": 21
        }
      ]
    },
    {
      "cell_type": "code",
      "metadata": {
        "colab": {
          "base_uri": "https://localhost:8080/"
        },
        "id": "iXU1ENuSIPjC",
        "outputId": "cbf87db6-d8e0-4657-e84e-3854282ebc32"
      },
      "source": [
        "#create training dataset\r\n",
        "#scaled training\r\n",
        "train_data = scaled_data[0:training_data_len, :]\r\n",
        "#split data\r\n",
        "x_train = []\r\n",
        "y_train = []\r\n",
        "\r\n",
        "for i in range(60, len(train_data)):\r\n",
        "  x_train.append(train_data[i-60:i, 0])\r\n",
        "  y_train.append(train_data[i, 0])\r\n",
        "  if i<= 61:\r\n",
        "    print(x_train)\r\n",
        "    print(y_train)\r\n",
        "    print()"
      ],
      "execution_count": 23,
      "outputs": [
        {
          "output_type": "stream",
          "text": [
            "[array([6.15990039e-03, 6.26368988e-03, 5.30716597e-03, 5.19776250e-03,\n",
            "       5.59047199e-03, 5.06593303e-03, 4.39551652e-03, 5.21739835e-03,\n",
            "       4.87518478e-03, 3.89341478e-03, 6.44882039e-03, 5.52035145e-03,\n",
            "       4.49369202e-03, 1.59887796e-03, 3.09116881e-03, 3.89621990e-03,\n",
            "       4.44040221e-03, 2.03085541e-03, 2.80137618e-06, 7.51750046e-04,\n",
            "       1.06872127e-03, 2.01402469e-03, 0.00000000e+00, 9.56516414e-04,\n",
            "       5.80641390e-04, 1.16129027e-03, 8.61146033e-04, 1.85694164e-03,\n",
            "       2.33660989e-03, 3.18373781e-03, 2.94530999e-03, 3.05189711e-03,\n",
            "       2.69845931e-03, 2.34782663e-03, 1.40532834e-03, 2.41515329e-03,\n",
            "       2.79102831e-03, 3.52595138e-03, 4.75176693e-03, 4.71249523e-03,\n",
            "       4.84712982e-03, 5.23422907e-03, 7.54560037e-03, 7.58206694e-03,\n",
            "       8.68725853e-03, 9.19777563e-03, 9.38290615e-03, 9.69146950e-03,\n",
            "       8.91727474e-03, 9.08837965e-03, 8.99581439e-03, 9.14448207e-03,\n",
            "       8.47126793e-03, 9.17253329e-03, 1.01851559e-02, 1.04684694e-02,\n",
            "       9.70549136e-03, 1.08976492e-02, 1.13155936e-02, 1.22861431e-02])]\n",
            "[0.01204771149606472]\n",
            "\n",
            "[array([6.15990039e-03, 6.26368988e-03, 5.30716597e-03, 5.19776250e-03,\n",
            "       5.59047199e-03, 5.06593303e-03, 4.39551652e-03, 5.21739835e-03,\n",
            "       4.87518478e-03, 3.89341478e-03, 6.44882039e-03, 5.52035145e-03,\n",
            "       4.49369202e-03, 1.59887796e-03, 3.09116881e-03, 3.89621990e-03,\n",
            "       4.44040221e-03, 2.03085541e-03, 2.80137618e-06, 7.51750046e-04,\n",
            "       1.06872127e-03, 2.01402469e-03, 0.00000000e+00, 9.56516414e-04,\n",
            "       5.80641390e-04, 1.16129027e-03, 8.61146033e-04, 1.85694164e-03,\n",
            "       2.33660989e-03, 3.18373781e-03, 2.94530999e-03, 3.05189711e-03,\n",
            "       2.69845931e-03, 2.34782663e-03, 1.40532834e-03, 2.41515329e-03,\n",
            "       2.79102831e-03, 3.52595138e-03, 4.75176693e-03, 4.71249523e-03,\n",
            "       4.84712982e-03, 5.23422907e-03, 7.54560037e-03, 7.58206694e-03,\n",
            "       8.68725853e-03, 9.19777563e-03, 9.38290615e-03, 9.69146950e-03,\n",
            "       8.91727474e-03, 9.08837965e-03, 8.99581439e-03, 9.14448207e-03,\n",
            "       8.47126793e-03, 9.17253329e-03, 1.01851559e-02, 1.04684694e-02,\n",
            "       9.70549136e-03, 1.08976492e-02, 1.13155936e-02, 1.22861431e-02]), array([6.26368988e-03, 5.30716597e-03, 5.19776250e-03, 5.59047199e-03,\n",
            "       5.06593303e-03, 4.39551652e-03, 5.21739835e-03, 4.87518478e-03,\n",
            "       3.89341478e-03, 6.44882039e-03, 5.52035145e-03, 4.49369202e-03,\n",
            "       1.59887796e-03, 3.09116881e-03, 3.89621990e-03, 4.44040221e-03,\n",
            "       2.03085541e-03, 2.80137618e-06, 7.51750046e-04, 1.06872127e-03,\n",
            "       2.01402469e-03, 0.00000000e+00, 9.56516414e-04, 5.80641390e-04,\n",
            "       1.16129027e-03, 8.61146033e-04, 1.85694164e-03, 2.33660989e-03,\n",
            "       3.18373781e-03, 2.94530999e-03, 3.05189711e-03, 2.69845931e-03,\n",
            "       2.34782663e-03, 1.40532834e-03, 2.41515329e-03, 2.79102831e-03,\n",
            "       3.52595138e-03, 4.75176693e-03, 4.71249523e-03, 4.84712982e-03,\n",
            "       5.23422907e-03, 7.54560037e-03, 7.58206694e-03, 8.68725853e-03,\n",
            "       9.19777563e-03, 9.38290615e-03, 9.69146950e-03, 8.91727474e-03,\n",
            "       9.08837965e-03, 8.99581439e-03, 9.14448207e-03, 8.47126793e-03,\n",
            "       9.17253329e-03, 1.01851559e-02, 1.04684694e-02, 9.70549136e-03,\n",
            "       1.08976492e-02, 1.13155936e-02, 1.22861431e-02, 1.20477115e-02])]\n",
            "[0.01204771149606472, 0.012319804520269886]\n",
            "\n"
          ],
          "name": "stdout"
        }
      ]
    },
    {
      "cell_type": "code",
      "metadata": {
        "id": "qkFcWT-gJ-3-"
      },
      "source": [
        "#conver x-y to numpy array\r\n",
        "x_train, y_train = np.array(x_train), np.array(y_train)"
      ],
      "execution_count": 24,
      "outputs": []
    },
    {
      "cell_type": "code",
      "metadata": {
        "colab": {
          "base_uri": "https://localhost:8080/"
        },
        "id": "Yp5GxmVwKUey",
        "outputId": "c2cd3a89-c4c1-43e4-e7c6-39b82540e1cc"
      },
      "source": [
        "#reshape x train needs to be 3d\r\n",
        "x_train = np.reshape(x_train,(x_train.shape[0], x_train.shape[1], 1))\r\n",
        "x_train.shape\r\n"
      ],
      "execution_count": 26,
      "outputs": [
        {
          "output_type": "execute_result",
          "data": {
            "text/plain": [
              "(2148, 60, 1)"
            ]
          },
          "metadata": {
            "tags": []
          },
          "execution_count": 26
        }
      ]
    },
    {
      "cell_type": "code",
      "metadata": {
        "id": "kNMxvoe4K6rE"
      },
      "source": [
        "#building model\r\n",
        "model = Sequential()\r\n",
        "model.add(LSTM(50, return_sequences=True, input_shape=(x_train.shape[1],1)))\r\n",
        "model.add(LSTM(50, return_sequences=False))\r\n",
        "model.add(Dense(25))\r\n",
        "model.add(Dense(1))"
      ],
      "execution_count": 27,
      "outputs": []
    },
    {
      "cell_type": "code",
      "metadata": {
        "id": "kbskiNA7LlW4"
      },
      "source": [
        "#compile model\r\n",
        "model.compile(optimizer='adam', loss='mean_squared_error')"
      ],
      "execution_count": 28,
      "outputs": []
    },
    {
      "cell_type": "code",
      "metadata": {
        "colab": {
          "base_uri": "https://localhost:8080/"
        },
        "id": "bJadtUTUL00T",
        "outputId": "9fd1c9fe-b643-4105-8e33-00111ef6b50d"
      },
      "source": [
        "#train the model\r\n",
        "model.fit(x_train, y_train, batch_size=1, epochs=1)"
      ],
      "execution_count": 29,
      "outputs": [
        {
          "output_type": "stream",
          "text": [
            "2148/2148 [==============================] - 49s 22ms/step - loss: 2.9795e-04\n"
          ],
          "name": "stdout"
        },
        {
          "output_type": "execute_result",
          "data": {
            "text/plain": [
              "<tensorflow.python.keras.callbacks.History at 0x7f55cbfbeef0>"
            ]
          },
          "metadata": {
            "tags": []
          },
          "execution_count": 29
        }
      ]
    },
    {
      "cell_type": "code",
      "metadata": {
        "id": "Hf7VuY96MQaV"
      },
      "source": [
        "#create the testing data set\r\n",
        "#create new array containing scaled values from index \r\n",
        "test_data = scaled_data[training_data_len - 60:, :]\r\n",
        "#create the data sets x_test and y_test\r\n",
        "x_test = []\r\n",
        "y_test = dataset[training_data_len:, :]\r\n",
        "for i in range(60, len(test_data)):\r\n",
        "  x_test.append(test_data[i-60:i, 0])\r\n",
        "  "
      ],
      "execution_count": 30,
      "outputs": []
    },
    {
      "cell_type": "code",
      "metadata": {
        "id": "yZH68y_qNVZ9"
      },
      "source": [
        "#convert data to a numpy array\r\n",
        "x_test = np.array(x_test)"
      ],
      "execution_count": 31,
      "outputs": []
    },
    {
      "cell_type": "code",
      "metadata": {
        "id": "0NZao7ozNekk"
      },
      "source": [
        "#reshape the data\r\n",
        "x_test = np.reshape(x_test, (x_test.shape[0], x_test.shape[1], 1))"
      ],
      "execution_count": 32,
      "outputs": []
    },
    {
      "cell_type": "code",
      "metadata": {
        "id": "2zs_In7kN1lX"
      },
      "source": [
        "#get model prediction \r\n",
        "predictions = model.predict(x_test)\r\n",
        "predictions = scaler.inverse_transform(predictions)"
      ],
      "execution_count": 33,
      "outputs": []
    },
    {
      "cell_type": "code",
      "metadata": {
        "colab": {
          "base_uri": "https://localhost:8080/"
        },
        "id": "Qk3rtJTfORkp",
        "outputId": "896342da-b4af-49f0-ecc9-9b1fe57283af"
      },
      "source": [
        "#get the root mean squared error\r\n",
        "rmse = np.sqrt( np.mean(predictions - y_test)**2 )\r\n",
        "rmse"
      ],
      "execution_count": 34,
      "outputs": [
        {
          "output_type": "execute_result",
          "data": {
            "text/plain": [
              "0.5607700624327728"
            ]
          },
          "metadata": {
            "tags": []
          },
          "execution_count": 34
        }
      ]
    },
    {
      "cell_type": "code",
      "metadata": {
        "colab": {
          "base_uri": "https://localhost:8080/",
          "height": 660
        },
        "id": "uXALbJn7O2VD",
        "outputId": "b26fa8f8-2fbd-49eb-b8ca-1df894dafe7f"
      },
      "source": [
        "#plot the data\r\n",
        "train = data[:training_data_len]\r\n",
        "valid = data[training_data_len:]\r\n",
        "valid['predictions'] = predictions\r\n",
        "#visual\r\n",
        "plt.figure(figsize=(16, 8));\r\n",
        "plt.title('model');\r\n",
        "plt.xlabel('Date', fontsize=18);\r\n",
        "plt.ylabel('Close Price USD($)');\r\n",
        "plt.plot(train['Close']);\r\n",
        "plt.plot(valid[['Close', 'predictions']]);\r\n",
        "plt.legend(['train', 'val', 'predictions'], loc='lower right');\r\n",
        "plt.show();"
      ],
      "execution_count": 37,
      "outputs": [
        {
          "output_type": "stream",
          "text": [
            "/usr/local/lib/python3.6/dist-packages/ipykernel_launcher.py:4: SettingWithCopyWarning: \n",
            "A value is trying to be set on a copy of a slice from a DataFrame.\n",
            "Try using .loc[row_indexer,col_indexer] = value instead\n",
            "\n",
            "See the caveats in the documentation: https://pandas.pydata.org/pandas-docs/stable/user_guide/indexing.html#returning-a-view-versus-a-copy\n",
            "  after removing the cwd from sys.path.\n"
          ],
          "name": "stderr"
        },
        {
          "output_type": "display_data",
          "data": {
            "image/png": "[encoded data removed]",
            "text/plain": [
              "<Figure size 1152x576 with 1 Axes>"
            ]
          },
          "metadata": {
            "tags": []
          }
        }
      ]
    },
    {
      "cell_type": "code",
      "metadata": {
        "colab": {
          "base_uri": "https://localhost:8080/",
          "height": 450
        },
        "id": "iuHBb5JSQS7f",
        "outputId": "9a4b0ab6-e006-463e-b08a-8ae2d879e8cd"
      },
      "source": [
        "#show valid and predicted price\r\n",
        "valid"
      ],
      "execution_count": 38,
      "outputs": [
        {
          "output_type": "execute_result",
          "data": {
            "text/html": [
              "<div>\n",
              "<style scoped>\n",
              "    .dataframe tbody tr th:only-of-type {\n",
              "        vertical-align: middle;\n",
              "    }\n",
              "\n",
              "    .dataframe tbody tr th {\n",
              "        vertical-align: top;\n",
              "    }\n",
              "\n",
              "    .dataframe thead th {\n",
              "        text-align: right;\n",
              "    }\n",
              "</style>\n",
              "<table border=\"1\" class=\"dataframe\">\n",
              "  <thead>\n",
              "    <tr style=\"text-align: right;\">\n",
              "      <th></th>\n",
              "      <th>Close</th>\n",
              "      <th>predictions</th>\n",
              "    </tr>\n",
              "    <tr>\n",
              "      <th>Date</th>\n",
              "      <th></th>\n",
              "      <th></th>\n",
              "    </tr>\n",
              "  </thead>\n",
              "  <tbody>\n",
              "    <tr>\n",
              "      <th>2018-10-10</th>\n",
              "      <td>54.090000</td>\n",
              "      <td>56.559525</td>\n",
              "    </tr>\n",
              "    <tr>\n",
              "      <th>2018-10-11</th>\n",
              "      <td>53.612499</td>\n",
              "      <td>56.226944</td>\n",
              "    </tr>\n",
              "    <tr>\n",
              "      <th>2018-10-12</th>\n",
              "      <td>55.527500</td>\n",
              "      <td>55.753136</td>\n",
              "    </tr>\n",
              "    <tr>\n",
              "      <th>2018-10-15</th>\n",
              "      <td>54.340000</td>\n",
              "      <td>55.524578</td>\n",
              "    </tr>\n",
              "    <tr>\n",
              "      <th>2018-10-16</th>\n",
              "      <td>55.537498</td>\n",
              "      <td>55.281525</td>\n",
              "    </tr>\n",
              "    <tr>\n",
              "      <th>...</th>\n",
              "      <td>...</td>\n",
              "      <td>...</td>\n",
              "    </tr>\n",
              "    <tr>\n",
              "      <th>2020-12-11</th>\n",
              "      <td>122.410004</td>\n",
              "      <td>122.259445</td>\n",
              "    </tr>\n",
              "    <tr>\n",
              "      <th>2020-12-14</th>\n",
              "      <td>121.779999</td>\n",
              "      <td>122.322243</td>\n",
              "    </tr>\n",
              "    <tr>\n",
              "      <th>2020-12-15</th>\n",
              "      <td>127.879997</td>\n",
              "      <td>122.232964</td>\n",
              "    </tr>\n",
              "    <tr>\n",
              "      <th>2020-12-16</th>\n",
              "      <td>127.809998</td>\n",
              "      <td>122.911713</td>\n",
              "    </tr>\n",
              "    <tr>\n",
              "      <th>2020-12-17</th>\n",
              "      <td>128.699997</td>\n",
              "      <td>123.787529</td>\n",
              "    </tr>\n",
              "  </tbody>\n",
              "</table>\n",
              "<p>552 rows × 2 columns</p>\n",
              "</div>"
            ],
            "text/plain": [
              "                 Close  predictions\n",
              "Date                               \n",
              "2018-10-10   54.090000    56.559525\n",
              "2018-10-11   53.612499    56.226944\n",
              "2018-10-12   55.527500    55.753136\n",
              "2018-10-15   54.340000    55.524578\n",
              "2018-10-16   55.537498    55.281525\n",
              "...                ...          ...\n",
              "2020-12-11  122.410004   122.259445\n",
              "2020-12-14  121.779999   122.322243\n",
              "2020-12-15  127.879997   122.232964\n",
              "2020-12-16  127.809998   122.911713\n",
              "2020-12-17  128.699997   123.787529\n",
              "\n",
              "[552 rows x 2 columns]"
            ]
          },
          "metadata": {
            "tags": []
          },
          "execution_count": 38
        }
      ]
    },
    {
      "cell_type": "code",
      "metadata": {
        "colab": {
          "base_uri": "https://localhost:8080/"
        },
        "id": "3r9eB7BHQjqp",
        "outputId": "4e48631c-471b-4046-e3d4-7ea023a8ae85"
      },
      "source": [
        "#get the qoute\r\n",
        "apple_qoute = web.DataReader('AAPL', data_source='yahoo', start='2012-01-01', end='2019-12-17')\r\n",
        "#creat new dataframe\r\n",
        "new_df = apple_qoute.filter(['Close'])\r\n",
        "#60 days convert to array\r\n",
        "last_60_days = new_df[-60:].values\r\n",
        "#scale data between values 0 and 1\r\n",
        "last_60_days_scaled = scaler.transform(last_60_days)\r\n",
        "#empty list\r\n",
        "X_test = []\r\n",
        "#append the past 60 days\r\n",
        "X_test.append(last_60_days_scaled)\r\n",
        "#convert the X_test data to a numpy array\r\n",
        "X_test = np.array(X_test)\r\n",
        "#reshape\r\n",
        "X_test = np.reshape(X_test, (X_test.shape[0], X_test.shape[1], 1))\r\n",
        "#get the predicted scale price\r\n",
        "pred_price = model.predict(X_test)\r\n",
        "#undo\r\n",
        "pred_price = scaler.inverse_transform(pred_price)\r\n",
        "print(pred_price)"
      ],
      "execution_count": 39,
      "outputs": [
        {
          "output_type": "stream",
          "text": [
            "[[68.22021]]\n"
          ],
          "name": "stdout"
        }
      ]
    },
    {
      "cell_type": "code",
      "metadata": {
        "colab": {
          "base_uri": "https://localhost:8080/"
        },
        "id": "AOmylSRJSZsK",
        "outputId": "f20c48cb-ebea-4f52-d841-2f96d08da67b"
      },
      "source": [
        "apple_qoute2 = web.DataReader('AAPL', data_source='yahoo', start='2019-12-18', end='2019-12-18')\r\n",
        "print(apple_qoute2['Close'])"
      ],
      "execution_count": 40,
      "outputs": [
        {
          "output_type": "stream",
          "text": [
            "Date\n",
            "2019-12-18    69.934998\n",
            "Name: Close, dtype: float64\n"
          ],
          "name": "stdout"
        }
      ]
    }
  ]
}